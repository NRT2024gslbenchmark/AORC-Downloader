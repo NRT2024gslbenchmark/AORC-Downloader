{
 "cells": [
  {
   "cell_type": "code",
   "execution_count": 2,
   "id": "ed67bfa4",
   "metadata": {},
   "outputs": [],
   "source": [
    "\n",
    "import os\n",
    "from aorc_downloader import AORC_downloader\n",
    "url = \"https://hydrology.nws.noaa.gov/aorc-historic/AORC_license_disclaimer.pdf\"\n",
    "\n",
    "# Define the output directory where the contents will be saved\n",
    "output_directory = \"local_folder_path\"\n",
    "\n",
    "AORC_downloader (url,output_directory)"
   ]
  },
  {
   "cell_type": "code",
   "execution_count": null,
   "id": "8d28ca09",
   "metadata": {},
   "outputs": [],
   "source": []
  }
 ],
 "metadata": {
  "kernelspec": {
   "display_name": "Python 3 (ipykernel)",
   "language": "python",
   "name": "python3"
  },
  "language_info": {
   "codemirror_mode": {
    "name": "ipython",
    "version": 3
   },
   "file_extension": ".py",
   "mimetype": "text/x-python",
   "name": "python",
   "nbconvert_exporter": "python",
   "pygments_lexer": "ipython3",
   "version": "3.9.16"
  }
 },
 "nbformat": 4,
 "nbformat_minor": 5
}
