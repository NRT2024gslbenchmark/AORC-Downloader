{
 "cells": [
  {
   "cell_type": "code",
   "execution_count": 3,
   "id": "baebca59",
   "metadata": {},
   "outputs": [
    {
     "name": "stdout",
     "output_type": "stream",
     "text": [
      "Contents of folder https://hydrology.nws.noaa.gov/aorc-historic/AORC_NWRFC/aorc-1km-nwrfc_197902.tar downloaded and saved in C:\\Users\\fwolkeba.UA-NET\\Desktop\\NRT\\Spring2024\n"
     ]
    }
   ],
   "source": [
    "\n",
    "import os\n",
    "from aorc_downloader import AORC_downloader\n",
    "url = \"https://hydrology.nws.noaa.gov/aorc-historic/AORC_NWRFC/aorc-1km-nwrfc_197902.tar\"\n",
    "\n",
    "# Define the output directory where the contents will be saved\n",
    "output_directory = r\"C:\\Users\\fwolkeba.UA-NET\\Desktop\\NRT\\Spring2024\"\n",
    "\n",
    "AORC_downloader (url,output_directory)"
   ]
  },
  {
   "cell_type": "code",
   "execution_count": null,
   "id": "1cdc5f12",
   "metadata": {},
   "outputs": [],
   "source": []
  }
 ],
 "metadata": {
  "kernelspec": {
   "display_name": "Python 3 (ipykernel)",
   "language": "python",
   "name": "python3"
  },
  "language_info": {
   "codemirror_mode": {
    "name": "ipython",
    "version": 3
   },
   "file_extension": ".py",
   "mimetype": "text/x-python",
   "name": "python",
   "nbconvert_exporter": "python",
   "pygments_lexer": "ipython3",
   "version": "3.9.16"
  }
 },
 "nbformat": 4,
 "nbformat_minor": 5
}
